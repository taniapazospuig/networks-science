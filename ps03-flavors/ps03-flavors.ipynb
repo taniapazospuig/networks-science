{
 "cells": [
  {
   "cell_type": "markdown",
   "metadata": {},
   "source": [
    "# Practice Session 03: Management of networks data"
   ]
  },
  {
   "cell_type": "markdown",
   "metadata": {},
   "source": [
    "Author: <font color=\"black\">Tània Pazos</font>\n",
    "\n",
    "E-mail: <font color=\"black\">tania.pazos01@estudiant.upf.edu</font>\n",
    "\n",
    "Date: <font color=\"black\">13/10/2023</font>"
   ]
  },
  {
   "cell_type": "markdown",
   "metadata": {},
   "source": [
    "# 1. The flavors bi-partite graph"
   ]
  },
  {
   "cell_type": "markdown",
   "metadata": {},
   "source": [
    "## 1.1. Read the bipartite graph in a dataframe\n"
   ]
  },
  {
   "cell_type": "code",
   "execution_count": 1,
   "metadata": {},
   "outputs": [],
   "source": [
    "import io\n",
    "import csv\n",
    "import pandas as pd\n",
    "import networkx as nx\n",
    "\n",
    "from networkx.algorithms import bipartite\n",
    "\n",
    "import numpy as np\n",
    "import matplotlib\n",
    "import scipy\n",
    "\n",
    "import itertools\n",
    "\n",
    "from IPython.display import Image"
   ]
  },
  {
   "cell_type": "code",
   "execution_count": 2,
   "metadata": {},
   "outputs": [],
   "source": [
    "INPUT_INGR_FILENAME = \"data/flavors-network/ingredients.tsv\"\n",
    "INPUT_COMP_FILENAME = \"data/flavors-network/compounds.tsv\"\n",
    "INPUT_INGR_COMP_FILENAME = \"data/flavors-network/ingredient-compound.tsv\""
   ]
  },
  {
   "cell_type": "code",
   "execution_count": 3,
   "metadata": {},
   "outputs": [
    {
     "data": {
      "text/html": [
       "<div>\n",
       "<style scoped>\n",
       "    .dataframe tbody tr th:only-of-type {\n",
       "        vertical-align: middle;\n",
       "    }\n",
       "\n",
       "    .dataframe tbody tr th {\n",
       "        vertical-align: top;\n",
       "    }\n",
       "\n",
       "    .dataframe thead th {\n",
       "        text-align: right;\n",
       "    }\n",
       "</style>\n",
       "<table border=\"1\" class=\"dataframe\">\n",
       "  <thead>\n",
       "    <tr style=\"text-align: right;\">\n",
       "      <th></th>\n",
       "      <th>ingredient_id</th>\n",
       "      <th>ingredient_name</th>\n",
       "      <th>ingredient_category</th>\n",
       "    </tr>\n",
       "  </thead>\n",
       "  <tbody>\n",
       "    <tr>\n",
       "      <th>0</th>\n",
       "      <td>0</td>\n",
       "      <td>magnolia_tripetala</td>\n",
       "      <td>flower</td>\n",
       "    </tr>\n",
       "    <tr>\n",
       "      <th>1</th>\n",
       "      <td>1</td>\n",
       "      <td>calyptranthes_parriculata</td>\n",
       "      <td>plant</td>\n",
       "    </tr>\n",
       "    <tr>\n",
       "      <th>2</th>\n",
       "      <td>2</td>\n",
       "      <td>chamaecyparis_pisifera_oil</td>\n",
       "      <td>plant derivative</td>\n",
       "    </tr>\n",
       "  </tbody>\n",
       "</table>\n",
       "</div>"
      ],
      "text/plain": [
       "   ingredient_id             ingredient_name ingredient_category\n",
       "0              0          magnolia_tripetala              flower\n",
       "1              1   calyptranthes_parriculata               plant\n",
       "2              2  chamaecyparis_pisifera_oil    plant derivative"
      ]
     },
     "metadata": {},
     "output_type": "display_data"
    },
    {
     "data": {
      "text/html": [
       "<div>\n",
       "<style scoped>\n",
       "    .dataframe tbody tr th:only-of-type {\n",
       "        vertical-align: middle;\n",
       "    }\n",
       "\n",
       "    .dataframe tbody tr th {\n",
       "        vertical-align: top;\n",
       "    }\n",
       "\n",
       "    .dataframe thead th {\n",
       "        text-align: right;\n",
       "    }\n",
       "</style>\n",
       "<table border=\"1\" class=\"dataframe\">\n",
       "  <thead>\n",
       "    <tr style=\"text-align: right;\">\n",
       "      <th></th>\n",
       "      <th>compound_id</th>\n",
       "      <th>compound_name</th>\n",
       "      <th>compound_code</th>\n",
       "    </tr>\n",
       "  </thead>\n",
       "  <tbody>\n",
       "    <tr>\n",
       "      <th>0</th>\n",
       "      <td>0</td>\n",
       "      <td>jasmone</td>\n",
       "      <td>488-10-8</td>\n",
       "    </tr>\n",
       "    <tr>\n",
       "      <th>1</th>\n",
       "      <td>1</td>\n",
       "      <td>5-methylhexanoic_acid</td>\n",
       "      <td>628-46-6</td>\n",
       "    </tr>\n",
       "    <tr>\n",
       "      <th>2</th>\n",
       "      <td>2</td>\n",
       "      <td>l-glutamine</td>\n",
       "      <td>56-85-9</td>\n",
       "    </tr>\n",
       "  </tbody>\n",
       "</table>\n",
       "</div>"
      ],
      "text/plain": [
       "   compound_id          compound_name compound_code\n",
       "0            0                jasmone      488-10-8\n",
       "1            1  5-methylhexanoic_acid      628-46-6\n",
       "2            2            l-glutamine       56-85-9"
      ]
     },
     "metadata": {},
     "output_type": "display_data"
    },
    {
     "data": {
      "text/html": [
       "<div>\n",
       "<style scoped>\n",
       "    .dataframe tbody tr th:only-of-type {\n",
       "        vertical-align: middle;\n",
       "    }\n",
       "\n",
       "    .dataframe tbody tr th {\n",
       "        vertical-align: top;\n",
       "    }\n",
       "\n",
       "    .dataframe thead th {\n",
       "        text-align: right;\n",
       "    }\n",
       "</style>\n",
       "<table border=\"1\" class=\"dataframe\">\n",
       "  <thead>\n",
       "    <tr style=\"text-align: right;\">\n",
       "      <th></th>\n",
       "      <th>ingredient_id</th>\n",
       "      <th>compound_id</th>\n",
       "    </tr>\n",
       "  </thead>\n",
       "  <tbody>\n",
       "    <tr>\n",
       "      <th>0</th>\n",
       "      <td>1392</td>\n",
       "      <td>906</td>\n",
       "    </tr>\n",
       "    <tr>\n",
       "      <th>1</th>\n",
       "      <td>1259</td>\n",
       "      <td>861</td>\n",
       "    </tr>\n",
       "    <tr>\n",
       "      <th>2</th>\n",
       "      <td>1079</td>\n",
       "      <td>673</td>\n",
       "    </tr>\n",
       "  </tbody>\n",
       "</table>\n",
       "</div>"
      ],
      "text/plain": [
       "   ingredient_id  compound_id\n",
       "0           1392          906\n",
       "1           1259          861\n",
       "2           1079          673"
      ]
     },
     "metadata": {},
     "output_type": "display_data"
    }
   ],
   "source": [
    "# Leave this code as-is\n",
    "\n",
    "ingredients = pd.read_csv(INPUT_INGR_FILENAME, sep=\"\\t\")\n",
    "display(ingredients.head(3))\n",
    "\n",
    "compounds = pd.read_csv(INPUT_COMP_FILENAME, sep=\"\\t\")\n",
    "display(compounds.head(3))\n",
    "\n",
    "ingr_comp = pd.read_csv(INPUT_INGR_COMP_FILENAME, sep=\"\\t\")\n",
    "display(ingr_comp.head(3))\n"
   ]
  },
  {
   "cell_type": "markdown",
   "metadata": {},
   "source": [
    "## 1.2. Create the flavors bipartite network"
   ]
  },
  {
   "cell_type": "code",
   "execution_count": 4,
   "metadata": {
    "scrolled": true
   },
   "outputs": [
    {
     "data": {
      "text/html": [
       "<div>\n",
       "<style scoped>\n",
       "    .dataframe tbody tr th:only-of-type {\n",
       "        vertical-align: middle;\n",
       "    }\n",
       "\n",
       "    .dataframe tbody tr th {\n",
       "        vertical-align: top;\n",
       "    }\n",
       "\n",
       "    .dataframe thead th {\n",
       "        text-align: right;\n",
       "    }\n",
       "</style>\n",
       "<table border=\"1\" class=\"dataframe\">\n",
       "  <thead>\n",
       "    <tr style=\"text-align: right;\">\n",
       "      <th></th>\n",
       "      <th>ingredient_name</th>\n",
       "      <th>ingredient_category</th>\n",
       "      <th>compound_name</th>\n",
       "      <th>compound_code</th>\n",
       "    </tr>\n",
       "    <tr>\n",
       "      <th>compound_id</th>\n",
       "      <th></th>\n",
       "      <th></th>\n",
       "      <th></th>\n",
       "      <th></th>\n",
       "    </tr>\n",
       "  </thead>\n",
       "  <tbody>\n",
       "    <tr>\n",
       "      <th>0</th>\n",
       "      <td>red_bean</td>\n",
       "      <td>vegetable</td>\n",
       "      <td>jasmone</td>\n",
       "      <td>488-10-8</td>\n",
       "    </tr>\n",
       "    <tr>\n",
       "      <th>0</th>\n",
       "      <td>jasmine_tea</td>\n",
       "      <td>plant derivative</td>\n",
       "      <td>jasmone</td>\n",
       "      <td>488-10-8</td>\n",
       "    </tr>\n",
       "    <tr>\n",
       "      <th>0</th>\n",
       "      <td>jasmine</td>\n",
       "      <td>flower</td>\n",
       "      <td>jasmone</td>\n",
       "      <td>488-10-8</td>\n",
       "    </tr>\n",
       "    <tr>\n",
       "      <th>0</th>\n",
       "      <td>soybean</td>\n",
       "      <td>vegetable</td>\n",
       "      <td>jasmone</td>\n",
       "      <td>488-10-8</td>\n",
       "    </tr>\n",
       "    <tr>\n",
       "      <th>0</th>\n",
       "      <td>dried_black_tea</td>\n",
       "      <td>plant derivative</td>\n",
       "      <td>jasmone</td>\n",
       "      <td>488-10-8</td>\n",
       "    </tr>\n",
       "    <tr>\n",
       "      <th>0</th>\n",
       "      <td>ceylon_tea</td>\n",
       "      <td>plant derivative</td>\n",
       "      <td>jasmone</td>\n",
       "      <td>488-10-8</td>\n",
       "    </tr>\n",
       "    <tr>\n",
       "      <th>0</th>\n",
       "      <td>pittosporum_glabratum</td>\n",
       "      <td>plant</td>\n",
       "      <td>jasmone</td>\n",
       "      <td>488-10-8</td>\n",
       "    </tr>\n",
       "    <tr>\n",
       "      <th>0</th>\n",
       "      <td>mung_bean</td>\n",
       "      <td>vegetable</td>\n",
       "      <td>jasmone</td>\n",
       "      <td>488-10-8</td>\n",
       "    </tr>\n",
       "    <tr>\n",
       "      <th>0</th>\n",
       "      <td>fermented_tea</td>\n",
       "      <td>plant derivative</td>\n",
       "      <td>jasmone</td>\n",
       "      <td>488-10-8</td>\n",
       "    </tr>\n",
       "    <tr>\n",
       "      <th>0</th>\n",
       "      <td>fermented_russian_black_tea</td>\n",
       "      <td>plant derivative</td>\n",
       "      <td>jasmone</td>\n",
       "      <td>488-10-8</td>\n",
       "    </tr>\n",
       "    <tr>\n",
       "      <th>0</th>\n",
       "      <td>spearmint_oil</td>\n",
       "      <td>plant derivative</td>\n",
       "      <td>jasmone</td>\n",
       "      <td>488-10-8</td>\n",
       "    </tr>\n",
       "    <tr>\n",
       "      <th>0</th>\n",
       "      <td>cinnamon</td>\n",
       "      <td>spice</td>\n",
       "      <td>jasmone</td>\n",
       "      <td>488-10-8</td>\n",
       "    </tr>\n",
       "    <tr>\n",
       "      <th>0</th>\n",
       "      <td>raw_bean</td>\n",
       "      <td>vegetable</td>\n",
       "      <td>jasmone</td>\n",
       "      <td>488-10-8</td>\n",
       "    </tr>\n",
       "    <tr>\n",
       "      <th>0</th>\n",
       "      <td>kola_tea</td>\n",
       "      <td>plant derivative</td>\n",
       "      <td>jasmone</td>\n",
       "      <td>488-10-8</td>\n",
       "    </tr>\n",
       "    <tr>\n",
       "      <th>0</th>\n",
       "      <td>spearmint</td>\n",
       "      <td>herb</td>\n",
       "      <td>jasmone</td>\n",
       "      <td>488-10-8</td>\n",
       "    </tr>\n",
       "    <tr>\n",
       "      <th>0</th>\n",
       "      <td>dried_green_tea</td>\n",
       "      <td>plant derivative</td>\n",
       "      <td>jasmone</td>\n",
       "      <td>488-10-8</td>\n",
       "    </tr>\n",
       "    <tr>\n",
       "      <th>0</th>\n",
       "      <td>bantu_beer</td>\n",
       "      <td>alcoholic beverage</td>\n",
       "      <td>jasmone</td>\n",
       "      <td>488-10-8</td>\n",
       "    </tr>\n",
       "    <tr>\n",
       "      <th>0</th>\n",
       "      <td>japanese_peppermint</td>\n",
       "      <td>herb</td>\n",
       "      <td>jasmone</td>\n",
       "      <td>488-10-8</td>\n",
       "    </tr>\n",
       "    <tr>\n",
       "      <th>0</th>\n",
       "      <td>navy_bean</td>\n",
       "      <td>vegetable</td>\n",
       "      <td>jasmone</td>\n",
       "      <td>488-10-8</td>\n",
       "    </tr>\n",
       "    <tr>\n",
       "      <th>0</th>\n",
       "      <td>red_kidney_bean</td>\n",
       "      <td>vegetable</td>\n",
       "      <td>jasmone</td>\n",
       "      <td>488-10-8</td>\n",
       "    </tr>\n",
       "  </tbody>\n",
       "</table>\n",
       "</div>"
      ],
      "text/plain": [
       "                         ingredient_name ingredient_category compound_name  \\\n",
       "compound_id                                                                  \n",
       "0                               red_bean           vegetable       jasmone   \n",
       "0                            jasmine_tea    plant derivative       jasmone   \n",
       "0                                jasmine              flower       jasmone   \n",
       "0                                soybean           vegetable       jasmone   \n",
       "0                        dried_black_tea    plant derivative       jasmone   \n",
       "0                             ceylon_tea    plant derivative       jasmone   \n",
       "0                  pittosporum_glabratum               plant       jasmone   \n",
       "0                              mung_bean           vegetable       jasmone   \n",
       "0                          fermented_tea    plant derivative       jasmone   \n",
       "0            fermented_russian_black_tea    plant derivative       jasmone   \n",
       "0                          spearmint_oil    plant derivative       jasmone   \n",
       "0                               cinnamon               spice       jasmone   \n",
       "0                               raw_bean           vegetable       jasmone   \n",
       "0                               kola_tea    plant derivative       jasmone   \n",
       "0                              spearmint                herb       jasmone   \n",
       "0                        dried_green_tea    plant derivative       jasmone   \n",
       "0                             bantu_beer  alcoholic beverage       jasmone   \n",
       "0                    japanese_peppermint                herb       jasmone   \n",
       "0                              navy_bean           vegetable       jasmone   \n",
       "0                        red_kidney_bean           vegetable       jasmone   \n",
       "\n",
       "            compound_code  \n",
       "compound_id                \n",
       "0                488-10-8  \n",
       "0                488-10-8  \n",
       "0                488-10-8  \n",
       "0                488-10-8  \n",
       "0                488-10-8  \n",
       "0                488-10-8  \n",
       "0                488-10-8  \n",
       "0                488-10-8  \n",
       "0                488-10-8  \n",
       "0                488-10-8  \n",
       "0                488-10-8  \n",
       "0                488-10-8  \n",
       "0                488-10-8  \n",
       "0                488-10-8  \n",
       "0                488-10-8  \n",
       "0                488-10-8  \n",
       "0                488-10-8  \n",
       "0                488-10-8  \n",
       "0                488-10-8  \n",
       "0                488-10-8  "
      ]
     },
     "metadata": {},
     "output_type": "display_data"
    }
   ],
   "source": [
    "# First, we join ingredients and ingr_comp\n",
    "result = ingredients.set_index('ingredient_id').join(ingr_comp.set_index('ingredient_id'), how='inner')\n",
    "\n",
    "# We join the result with compounds\n",
    "flavors = result.set_index('compound_id').join(compounds.set_index('compound_id'), how='inner')\n",
    "\n",
    "# Show the first 20 nodes of flavors dataframe\n",
    "display(flavors.head(20))"
   ]
  },
  {
   "cell_type": "code",
   "execution_count": 5,
   "metadata": {},
   "outputs": [
    {
     "data": {
      "text/html": [
       "<div>\n",
       "<style scoped>\n",
       "    .dataframe tbody tr th:only-of-type {\n",
       "        vertical-align: middle;\n",
       "    }\n",
       "\n",
       "    .dataframe tbody tr th {\n",
       "        vertical-align: top;\n",
       "    }\n",
       "\n",
       "    .dataframe thead th {\n",
       "        text-align: right;\n",
       "    }\n",
       "</style>\n",
       "<table border=\"1\" class=\"dataframe\">\n",
       "  <thead>\n",
       "    <tr style=\"text-align: right;\">\n",
       "      <th></th>\n",
       "      <th>ingredient_name</th>\n",
       "      <th>ingredient_category</th>\n",
       "      <th>compound_name</th>\n",
       "    </tr>\n",
       "  </thead>\n",
       "  <tbody>\n",
       "    <tr>\n",
       "      <th>0</th>\n",
       "      <td>abies_alba</td>\n",
       "      <td>plant</td>\n",
       "      <td>bornyl_acetate</td>\n",
       "    </tr>\n",
       "    <tr>\n",
       "      <th>1</th>\n",
       "      <td>abies_alba_pine_needle</td>\n",
       "      <td>plant</td>\n",
       "      <td>maltol</td>\n",
       "    </tr>\n",
       "    <tr>\n",
       "      <th>2</th>\n",
       "      <td>abies_balsamea_oil</td>\n",
       "      <td>plant derivative</td>\n",
       "      <td>myrcene</td>\n",
       "    </tr>\n",
       "    <tr>\n",
       "      <th>3</th>\n",
       "      <td>abies_canadensis</td>\n",
       "      <td>plant</td>\n",
       "      <td>bornyl_acetate</td>\n",
       "    </tr>\n",
       "    <tr>\n",
       "      <th>4</th>\n",
       "      <td>abies_concolor</td>\n",
       "      <td>plant</td>\n",
       "      <td>bornyl_acetate</td>\n",
       "    </tr>\n",
       "    <tr>\n",
       "      <th>5</th>\n",
       "      <td>abies_sibirica</td>\n",
       "      <td>plant</td>\n",
       "      <td>bornyl_acetate</td>\n",
       "    </tr>\n",
       "    <tr>\n",
       "      <th>6</th>\n",
       "      <td>abies_sibirica</td>\n",
       "      <td>plant</td>\n",
       "      <td>camphene</td>\n",
       "    </tr>\n",
       "    <tr>\n",
       "      <th>7</th>\n",
       "      <td>abies_sibirica</td>\n",
       "      <td>plant</td>\n",
       "      <td>isoborneol</td>\n",
       "    </tr>\n",
       "    <tr>\n",
       "      <th>8</th>\n",
       "      <td>acacia</td>\n",
       "      <td>plant</td>\n",
       "      <td>(e)-2-hexenyl_hexanoate</td>\n",
       "    </tr>\n",
       "    <tr>\n",
       "      <th>9</th>\n",
       "      <td>acacia</td>\n",
       "      <td>plant</td>\n",
       "      <td>benzyl_acetate</td>\n",
       "    </tr>\n",
       "    <tr>\n",
       "      <th>10</th>\n",
       "      <td>acacia</td>\n",
       "      <td>plant</td>\n",
       "      <td>camphene</td>\n",
       "    </tr>\n",
       "    <tr>\n",
       "      <th>11</th>\n",
       "      <td>acacia</td>\n",
       "      <td>plant</td>\n",
       "      <td>eugenol</td>\n",
       "    </tr>\n",
       "    <tr>\n",
       "      <th>12</th>\n",
       "      <td>acacia</td>\n",
       "      <td>plant</td>\n",
       "      <td>isoeugenol</td>\n",
       "    </tr>\n",
       "    <tr>\n",
       "      <th>13</th>\n",
       "      <td>acacia</td>\n",
       "      <td>plant</td>\n",
       "      <td>l-arabinose</td>\n",
       "    </tr>\n",
       "    <tr>\n",
       "      <th>14</th>\n",
       "      <td>acacia</td>\n",
       "      <td>plant</td>\n",
       "      <td>methyl_benzoate</td>\n",
       "    </tr>\n",
       "    <tr>\n",
       "      <th>15</th>\n",
       "      <td>acacia_caven</td>\n",
       "      <td>plant</td>\n",
       "      <td>benzyl_alcohol</td>\n",
       "    </tr>\n",
       "    <tr>\n",
       "      <th>16</th>\n",
       "      <td>acacia_caven</td>\n",
       "      <td>plant</td>\n",
       "      <td>methyl_salicylate</td>\n",
       "    </tr>\n",
       "    <tr>\n",
       "      <th>17</th>\n",
       "      <td>acacia_dealbata</td>\n",
       "      <td>plant</td>\n",
       "      <td>heptanoic_acid</td>\n",
       "    </tr>\n",
       "    <tr>\n",
       "      <th>18</th>\n",
       "      <td>acacia_farnesiana</td>\n",
       "      <td>plant</td>\n",
       "      <td>p-cresol</td>\n",
       "    </tr>\n",
       "    <tr>\n",
       "      <th>19</th>\n",
       "      <td>acacia_farnesiana</td>\n",
       "      <td>plant</td>\n",
       "      <td>p-methoxybenzaldehyde</td>\n",
       "    </tr>\n",
       "  </tbody>\n",
       "</table>\n",
       "</div>"
      ],
      "text/plain": [
       "           ingredient_name ingredient_category            compound_name\n",
       "0               abies_alba               plant           bornyl_acetate\n",
       "1   abies_alba_pine_needle               plant                   maltol\n",
       "2       abies_balsamea_oil    plant derivative                  myrcene\n",
       "3         abies_canadensis               plant           bornyl_acetate\n",
       "4           abies_concolor               plant           bornyl_acetate\n",
       "5           abies_sibirica               plant           bornyl_acetate\n",
       "6           abies_sibirica               plant                 camphene\n",
       "7           abies_sibirica               plant               isoborneol\n",
       "8                   acacia               plant  (e)-2-hexenyl_hexanoate\n",
       "9                   acacia               plant           benzyl_acetate\n",
       "10                  acacia               plant                 camphene\n",
       "11                  acacia               plant                  eugenol\n",
       "12                  acacia               plant               isoeugenol\n",
       "13                  acacia               plant              l-arabinose\n",
       "14                  acacia               plant          methyl_benzoate\n",
       "15            acacia_caven               plant           benzyl_alcohol\n",
       "16            acacia_caven               plant        methyl_salicylate\n",
       "17         acacia_dealbata               plant           heptanoic_acid\n",
       "18       acacia_farnesiana               plant                 p-cresol\n",
       "19       acacia_farnesiana               plant    p-methoxybenzaldehyde"
      ]
     },
     "metadata": {},
     "output_type": "display_data"
    }
   ],
   "source": [
    "# Drop the compound_code column\n",
    "flavors= flavors.drop(columns=['compound_code'])\n",
    "\n",
    "# Sort by ingredient_name, then by coumpound_name\n",
    "flavors = flavors.sort_values(['ingredient_name', 'compound_name'])\n",
    "\n",
    "# Reset index\n",
    "flavors= flavors.reset_index(drop=True)\n",
    "\n",
    "# Show first 20 rows of dataframe flavors\n",
    "display(flavors.head(20))"
   ]
  },
  {
   "cell_type": "code",
   "execution_count": 6,
   "metadata": {},
   "outputs": [],
   "source": [
    "# Save flavors dataframe into a tab-separated file\n",
    "flavors.to_csv(\"flavors.tsv\", sep='\\t')"
   ]
  },
  {
   "cell_type": "markdown",
   "metadata": {},
   "source": [
    "## 1.3. Open this bi-partite network in Cytoscape\n"
   ]
  },
  {
   "cell_type": "markdown",
   "metadata": {},
   "source": [
    "The following figure shows clusters representing ingredient categories in the flavors network. All compound nodes remain in white."
   ]
  },
  {
   "cell_type": "code",
   "execution_count": 7,
   "metadata": {},
   "outputs": [
    {
     "data": {
      "text/html": [
       "<img src=\"flavors.png\" width=\"1200\"/>"
      ],
      "text/plain": [
       "<IPython.core.display.Image object>"
      ]
     },
     "execution_count": 7,
     "metadata": {},
     "output_type": "execute_result"
    }
   ],
   "source": [
    "Image(url=\"flavors.png\", width=1200)"
   ]
  },
  {
   "cell_type": "markdown",
   "metadata": {},
   "source": [
    "On the other hand, the figure below shows all the compounds that Onion and Garlic have in common. Note that Onion appears at the top of the image, the compounds in the middle, and Garlic at the bottom."
   ]
  },
  {
   "cell_type": "code",
   "execution_count": 8,
   "metadata": {},
   "outputs": [
    {
     "data": {
      "text/html": [
       "<img src=\"compounds-in-common.png\" width=\"1200\"/>"
      ],
      "text/plain": [
       "<IPython.core.display.Image object>"
      ]
     },
     "execution_count": 8,
     "metadata": {},
     "output_type": "execute_result"
    }
   ],
   "source": [
    "Image(url=\"compounds-in-common.png\", width=1200)"
   ]
  },
  {
   "cell_type": "markdown",
   "metadata": {},
   "source": [
    "Since the degree of both nodes onion and garlic is 16, we know these two ingredients have 16 compounds in common. Based entirely on their names, 10 of these compounds -such as allyl_sulfide and methyl_sulfide- contain sulfur."
   ]
  },
  {
   "cell_type": "markdown",
   "metadata": {},
   "source": [
    "# 2. The ingredient-ingredient graph"
   ]
  },
  {
   "cell_type": "markdown",
   "metadata": {},
   "source": [
    "## 2.1. Create an ingredient-ingredient.csv file\n"
   ]
  },
  {
   "cell_type": "markdown",
   "metadata": {},
   "source": [
    "Converting column ingredient_name of dataframe ingredients to ingredients_array."
   ]
  },
  {
   "cell_type": "code",
   "execution_count": 9,
   "metadata": {},
   "outputs": [
    {
     "name": "stdout",
     "output_type": "stream",
     "text": [
      "There are 1530 ingredients.\n"
     ]
    }
   ],
   "source": [
    "ingredients_array = np.asarray(ingredients['ingredient_name'])\n",
    "\n",
    "print(\"There are %d ingredients.\"% len(ingredients_array))"
   ]
  },
  {
   "cell_type": "markdown",
   "metadata": {},
   "source": [
    "Creating a dictionary ingredient_to_compounds in which keys are ingredients, and values are sets of compounds. "
   ]
  },
  {
   "cell_type": "code",
   "execution_count": 10,
   "metadata": {},
   "outputs": [
    {
     "name": "stdout",
     "output_type": "stream",
     "text": [
      "The dictionary has 1525 keys\n"
     ]
    }
   ],
   "source": [
    "# Creating a dictionary\n",
    "ingredient_to_compounds = {}\n",
    "\n",
    "# Loop through each row in the flavors dataframe\n",
    "for index, row in flavors.iterrows():\n",
    "    # Extract ingredient_name and compound_name from each row\n",
    "    ingredient_name = row['ingredient_name']\n",
    "    compound_name = row['compound_name']\n",
    "    \n",
    "    # Check if ingredient_name is in ingredients_array\n",
    "    if ingredient_name in ingredients_array:\n",
    "        # If ingredient_name is not a key, create a set of coumpounds for that ingredient_name\n",
    "        if ingredient_name not in ingredient_to_compounds:\n",
    "            ingredient_to_compounds[ingredient_name] = set()\n",
    "        # Add the compound to the set associated with the ingredient_name\n",
    "        ingredient_to_compounds[ingredient_name].add(compound_name)\n",
    "        \n",
    "# Calculate the number of keys in the dictionary\n",
    "num_keys = len(ingredient_to_compounds)\n",
    "\n",
    "print(\"The dictionary has %d keys\" % num_keys)"
   ]
  },
  {
   "cell_type": "markdown",
   "metadata": {},
   "source": [
    "We now create a NetworkX graph with nodes representing ingredients and edges of weight x connecting two ingredients having x flavor compounds in common."
   ]
  },
  {
   "cell_type": "code",
   "execution_count": 11,
   "metadata": {},
   "outputs": [],
   "source": [
    "ingredient_ingredient = nx.Graph()\n",
    "# Set the minimum common compounds to 75 so that the graph has around 150 nodes\n",
    "MIN_COMMON_COMPOUNDS= 75\n",
    "\n",
    "for u, v in itertools.combinations(ingredient_to_compounds.keys(),2):\n",
    "        common_compounds = ingredient_to_compounds[u].intersection(ingredient_to_compounds[v])\n",
    "        if len(common_compounds) >= MIN_COMMON_COMPOUNDS:\n",
    "            ingredient_ingredient.add_edge(u, v, weight=len(common_compounds))"
   ]
  },
  {
   "cell_type": "code",
   "execution_count": 12,
   "metadata": {},
   "outputs": [
    {
     "name": "stdout",
     "output_type": "stream",
     "text": [
      "The ingredient-ingredient graph has 152 nodes and 1647 edges\n"
     ]
    }
   ],
   "source": [
    "print(\"The ingredient-ingredient graph has %d nodes and %d edges\" %\n",
    "      (ingredient_ingredient.number_of_nodes(), ingredient_ingredient.number_of_edges()))"
   ]
  },
  {
   "cell_type": "markdown",
   "metadata": {},
   "source": [
    "Save the resulting graph into a GML file."
   ]
  },
  {
   "cell_type": "code",
   "execution_count": 13,
   "metadata": {
    "scrolled": true
   },
   "outputs": [],
   "source": [
    "nx.write_gml(ingredient_ingredient, \"/Users/taniapazospuig/Desktop/UNI/YEAR_2/TRIM_1/NETWORKS_SCIENCE/networks-science-course/practicum/ingredient-ingredient.gml\")"
   ]
  },
  {
   "cell_type": "code",
   "execution_count": 14,
   "metadata": {},
   "outputs": [],
   "source": [
    "OUTPUT_INGR_INGR_FILENAME = 'ingredient-ingredient.gml'"
   ]
  },
  {
   "cell_type": "markdown",
   "metadata": {},
   "source": [
    "## 2.2. Work with this file in Cytoscape"
   ]
  },
  {
   "cell_type": "markdown",
   "metadata": {},
   "source": [
    "The image below shows the visualization of the ingredient-ingredient file. The edge width is directly propertional to the number of coumpounds two ingredients -nodes- have in common. The edge color also reflects the number of common compounds. On the other hand, the node color illustrates different ingredient categories. The style used in the graph is summarized in the legend displayed righ below the network."
   ]
  },
  {
   "cell_type": "code",
   "execution_count": 15,
   "metadata": {},
   "outputs": [
    {
     "data": {
      "text/html": [
       "<img src=\"ingr-ingr.png\" width=\"1200\"/>"
      ],
      "text/plain": [
       "<IPython.core.display.Image object>"
      ]
     },
     "metadata": {},
     "output_type": "display_data"
    },
    {
     "data": {
      "text/html": [
       "<img src=\"ingr-ingr-legend.gif\" width=\"400\"/>"
      ],
      "text/plain": [
       "<IPython.core.display.Image object>"
      ]
     },
     "metadata": {},
     "output_type": "display_data"
    }
   ],
   "source": [
    "display(Image(url=\"ingr-ingr.png\", width=1200))\n",
    "\n",
    "display(Image(url=\"ingr-ingr-legend.gif\", width=400))"
   ]
  },
  {
   "cell_type": "markdown",
   "metadata": {},
   "source": [
    "Considering the network structure, it is clear that ingredients of the same category -like white wine and red wine- have more compounds in common. However, precisely because they are part of the same ingredient category -alcoholic beverages-, they do not constitute an interesting combination. \n",
    "On the other hand, two ingredients that would perfectly combine would be parmesan cheese and white wine -they are joint by an orange edge, meaning that the number of compounds they have in common is around one hundred. Another interesting union would be beer and roasted beef, with approximately the same number of compounds in common."
   ]
  },
  {
   "cell_type": "markdown",
   "metadata": {},
   "source": [
    "<font size=\"+2\" color=\"#003300\">I hereby declare that, except for the code provided by the course instructors, all of my code, report, and figures were produced by myself.</font>\n"
   ]
  }
 ],
 "metadata": {
  "kernelspec": {
   "display_name": "Python 3 (ipykernel)",
   "language": "python",
   "name": "python3"
  },
  "language_info": {
   "codemirror_mode": {
    "name": "ipython",
    "version": 3
   },
   "file_extension": ".py",
   "mimetype": "text/x-python",
   "name": "python",
   "nbconvert_exporter": "python",
   "pygments_lexer": "ipython3",
   "version": "3.11.5"
  }
 },
 "nbformat": 4,
 "nbformat_minor": 2
}
